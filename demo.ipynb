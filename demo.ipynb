{
 "cells": [
  {
   "cell_type": "code",
   "execution_count": 4,
   "metadata": {},
   "outputs": [],
   "source": [
    "import pandas as pd\n",
    "import psycopg2"
   ]
  },
  {
   "cell_type": "code",
   "execution_count": 20,
   "metadata": {},
   "outputs": [],
   "source": [
    "# establish connection to the pg database\n",
    "conn = psycopg2.connect(dbname = \"can\",\n",
    "                       user = \"python\",\n",
    "                       password = \"pythonuser\",\n",
    "                       host = \"pyrva.cul6zd3pcwrp.us-east-2.rds.amazonaws.com\")\n",
    "\n",
    "cur = conn.cursor()\n",
    "q = '''\n",
    "    CREATE TABLE seven(\n",
    "        id INTEGER PRIMARY KEY,\n",
    "        email TEXT,\n",
    "        name TEXT,\n",
    "        address TEXT\n",
    "    )\n",
    "'''\n",
    "\n",
    "cur.execute(q)\n",
    "conn.commit()\n",
    "conn.close()"
   ]
  },
  {
   "cell_type": "code",
   "execution_count": null,
   "metadata": {},
   "outputs": [],
   "source": []
  },
  {
   "cell_type": "code",
   "execution_count": null,
   "metadata": {},
   "outputs": [],
   "source": []
  }
 ],
 "metadata": {
  "kernelspec": {
   "display_name": "Python 3",
   "language": "python",
   "name": "python3"
  },
  "language_info": {
   "codemirror_mode": {
    "name": "ipython",
    "version": 3
   },
   "file_extension": ".py",
   "mimetype": "text/x-python",
   "name": "python",
   "nbconvert_exporter": "python",
   "pygments_lexer": "ipython3",
   "version": "3.7.2"
  }
 },
 "nbformat": 4,
 "nbformat_minor": 2
}
